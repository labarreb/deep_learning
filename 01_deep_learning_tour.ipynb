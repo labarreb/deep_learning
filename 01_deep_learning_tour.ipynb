{
  "cells": [
    {
      "cell_type": "markdown",
      "metadata": {
        "id": "HhJ2uySBshzs"
      },
      "source": [
        "![Practicum AI Logo image](https://github.com/labarreb/deep_learning/blob/main/images/practicum_ai_logo.png?raw=1) <img src='https://github.com/labarreb/deep_learning/blob/main/images/practicumai_deep_learning.png?raw=1' alt='Practicum AI: Deep Learning Foundations icon' align='right' width=50>\n",
        "\n",
        "***\n",
        "# *Practicum AI:* Deep Learning Basics\n",
        "\n",
        "This exercise is inspired by Baig et al. (2020) <i>The Deep Learning Workshop</i> from <a href=\"https://www.packtpub.com/product/the-deep-learning-workshop/9781839219856\">Packt Publishers</a> (Exercise 1.01, page 7).\n",
        "\n",
        "## Deep learning for image recognition\n",
        "\n",
        "Before diving into exactly _how_ deep learning works, let's explore it through an example. We will explore just a few of the fantastic things you can do with existing models and see how easy it can be to implement AI tools with code.\n",
        "\n",
        "In this exercise, we will use a pre-trained deep learning model, [ResNet50](https://arxiv.org/abs/1512.03385), which has been trained on [ImageNet](https://image-net.org/), a collection of about 1.3 million images labeled as being in one of 1,000 categories. We won't focus on the details of ResNet50, but understand that it is a deep learning image classification model developed to categorize images into one of the 1,000 categories in the ImageNet dataset. Like many models, it is openly available and can be seamlessly imported into your notebook with or without the learned weights.\n",
        "\n",
        "To help with this exercise, let us introduce you to our heroine,  Dr. Amelia. <img alt=\"A cartoon of Dr. Amelia, a nutrition researcher, sitting at a computer thinking about food items which appear in a thought bubble.\" src=\"https://github.com/labarreb/deep_learning/blob/main/images/DrAmelia.jpg?raw=1\" padding=20 align=\"right\" width=250>\n",
        "\n",
        "Amelia is a research nutritionist who is conducting a dietary study in which she analyzes her participants' diets. Experience has shown her that when asked to report the details of their meals, participants frequently either do not enter the data or misreport what they ate. For Amelia's new study, she hopes to have them take photos of their meals and use AI to analyze their diet automatically. As a first step, she wants to test a model to see how well it can recognize a food item from a photo.\n",
        "\n",
        "Dr. Amelia doesn't have much data yet but has learned that using pre-trained models for many tasks is possible, and she hopes to avoid starting her project from scratch. As a prototype, we will help Amelia develop her AI-powered food recognition system!\n",
        "\n",
        "**Note:** Dr. Amelia's cartoon was generated with AI's assistance.\n",
        "\n",
        "Amelia is a *Practicum AI* alumna and recalls the AI Application Development Pathway.\n",
        "\n",
        "![Practicum AI Application Pathway Image](https://github.com/labarreb/deep_learning/blob/main/images/application_dev_pathway.png?raw=1)\n",
        "\n",
        "With her food image processing task, she has already completed Step 1: Choose a Problem! Due to the flexible nature of coding, implementing the following steps will jump around a bit. Don't worry; Amelia knows her stuff and will ensure we know where we are in the development process. Here is an overview of the steps in the application development process and how they correspond to the code in this Jupyter Notebook:\n",
        "\n",
        "1. Choose a Problem - Make a food item classifier that takes an input image and returns the predicted food object!\n",
        "2. Gather Good Data - Amelia is very busy; she doesn't have time to take thousands of food images! Instead, she will use a model that has already been trained to \"recognize\" various food items (and hundreds of other things!).\n",
        "3. Clean and Prep Data - The model she is using already has training data, so she doesn't need to worry about prepping her training data. However, she will have to work to ensure that her new inputs are formatted correctly.\n",
        "4. Choose a Model - Amelia needs a model that is already trained and recognizes images. That narrows her search to models like ResNet (though there is an ever-growing list of possibilities here!).\n",
        "5. Train the Model - Our heroine will use a pre-trained model, so... Done! She is up and running with an AI application without compiling or training anything.\n",
        "6. Evaluate the Model - As part of the evaluation process, Amelia will need to test the model to see how well it recognizes food.\n",
        "7. Deploy the Model - Amelia is comfortable using Jupyter Notebooks, so she will leave the application here for this initial proof of concept. Embedding the model in another application is unnecessary (and beyond the scope of this course!).\n",
        "\n",
        "### <img src='https://github.com/labarreb/deep_learning/blob/main/images/note_icon.svg?raw=1' width=40, align='center' alt='Note icon'> Note\n",
        "\n",
        "> While you may not be looking to classify food items (or have a very different AI project in mind), note that in many cases, there are models with which you start. The relative openness of AI researchers in sharing their models has enabled the community to:\n",
        ">   * Use a trained model \"out of the box,\" as Amelia will.\n",
        ">   * Fine-tune a model with some of your data.\n",
        ">   * Use an existing model architecture and train with your data.\n",
        ">   * Modify an existing model architecture and train with your data.\n",
        "> Rarely is there a need to start from scratch!\n",
        "\n",
        "## 1. Import libraries\n",
        "\n",
        "Import the necessary libraries. For this exercise, Amelia will use the pre-trained ResNet50 model that is part of Keras: `tensorflow.keras.applications.resnet50`. Check out the [Keras documentation](https://www.tensorflow.org/api_docs/python/tf/keras/applications/resnet50/ResNet50) for more details.\n",
        "\n",
        "### <img src='https://github.com/labarreb/deep_learning/blob/main/images/note_icon.svg?raw=1' width=40, align='center' alt='Note icon'> Note\n",
        "> Remember not all red is bad. Read through the output. The most likely error that you will encounter in the cell below that is a real issue is the failure to import a library. For example: `ModuleNotFoundError: No module named 'gtts'`. See the following code block on fixing that if needed. Most other warnings that we see can typically be ignored."
      ]
    },
    {
      "cell_type": "code",
      "execution_count": 2,
      "metadata": {
        "tags": [],
        "id": "XJfndvjEshzu"
      },
      "outputs": [],
      "source": [
        "# Import necessary libraries for image processing and deep learning.\n",
        "# The image processing functions, like img_to_array, will help Amelia format the image to run through her model.\n",
        "\n",
        "from tensorflow.keras.preprocessing.image import load_img\n",
        "from tensorflow.keras.preprocessing.image import img_to_array\n",
        "from tensorflow.keras.applications.resnet50 import ResNet50\n",
        "from tensorflow.keras.applications.resnet50 import preprocess_input\n",
        "from tensorflow.keras.applications.resnet50 import decode_predictions\n",
        "\n",
        "# Import base tensorflow and set seed to achieve consistent results.\n",
        "import tensorflow as tf\n",
        "import numpy as np\n",
        "\n",
        "# Import Google text-to-speech used later in the notebook.\n",
        "from gtts import gTTS\n",
        "import os\n",
        "\n",
        "# Set the seed for reproducibility.\n",
        "seed = 42\n",
        "\n",
        "tf.random.set_seed(seed)\n",
        "np.random.seed(seed)"
      ]
    },
    {
      "cell_type": "code",
      "execution_count": 1,
      "metadata": {
        "tags": [],
        "id": "KwA8bQZdshzv",
        "outputId": "82cae532-6e4e-424e-bbca-c78c80104970",
        "colab": {
          "base_uri": "https://localhost:8080/"
        }
      },
      "outputs": [
        {
          "output_type": "stream",
          "name": "stdout",
          "text": [
            "Collecting gTTS\n",
            "  Downloading gTTS-2.5.3-py3-none-any.whl.metadata (4.1 kB)\n",
            "Requirement already satisfied: requests<3,>=2.27 in /usr/local/lib/python3.10/dist-packages (from gTTS) (2.32.3)\n",
            "Requirement already satisfied: click<8.2,>=7.1 in /usr/local/lib/python3.10/dist-packages (from gTTS) (8.1.7)\n",
            "Requirement already satisfied: charset-normalizer<4,>=2 in /usr/local/lib/python3.10/dist-packages (from requests<3,>=2.27->gTTS) (3.3.2)\n",
            "Requirement already satisfied: idna<4,>=2.5 in /usr/local/lib/python3.10/dist-packages (from requests<3,>=2.27->gTTS) (3.8)\n",
            "Requirement already satisfied: urllib3<3,>=1.21.1 in /usr/local/lib/python3.10/dist-packages (from requests<3,>=2.27->gTTS) (2.0.7)\n",
            "Requirement already satisfied: certifi>=2017.4.17 in /usr/local/lib/python3.10/dist-packages (from requests<3,>=2.27->gTTS) (2024.8.30)\n",
            "Downloading gTTS-2.5.3-py3-none-any.whl (29 kB)\n",
            "Installing collected packages: gTTS\n",
            "Successfully installed gTTS-2.5.3\n"
          ]
        }
      ],
      "source": [
        "# If you are using a system that doesn't have gTTS you may need to install it.\n",
        "# If you get an import error, use the following code (without the hashtag, of course) to install gTTS:\n",
        "!pip install gTTS\n",
        "\n",
        "# Once installed, re-run the main import block to import everything."
      ]
    },
    {
      "cell_type": "markdown",
      "metadata": {
        "id": "EW7GxE5oshzv"
      },
      "source": [
        ">## <img src='https://github.com/labarreb/deep_learning/blob/main/images/alert_icon.svg?raw=1' alt=\"Alert icon\" width=40 align=center> Did you get an error here?\n",
        ">\n",
        ">If you got an error running the cell above, it is probably because the environment you are working in doesn't have `numpy` or `pandas` installed.\n",
        ">\n",
        ">### For Google Colab\n",
        ">\n",
        ">On Google Colab, this shouldn't be an issue (for these libraries), and if you do run into this in the future, it is generally OK (and expected in Colab) to use `!pip install ___` to install a library. In Colab, each notebook is independent of other notebooks, so the installation of packages has limited impact. But, be especially careful doing this on HPC systems; installing things that cause compatibility issues is easy.\n",
        ">\n",
        ">### For Jupyter on HPC systems\n",
        ">\n",
        ">For most of what the *Practicum AI* courses cover, an environment (known as a **kernel**) will be ready for you to use. Check the kernel if you run into an error about a missing library. The current kernel is shown in the top right of the notebook:\n",
        ">\n",
        ">![Screenshot of a Jupyter notebook showing the currently selected kernel](https://github.com/labarreb/deep_learning/blob/main/images/kernel.png?raw=1)\n",
        ">\n",
        ">For this notebook on HiPerGator, we will use the **Tensorflow-2.15** kernel."
      ]
    },
    {
      "cell_type": "markdown",
      "metadata": {
        "id": "hxSJ-14Bshzv"
      },
      "source": [
        "## 2. Instantiate the Resnet50 model\n",
        "\n",
        "Instantiating is a programming term that means taking the 'blueprint' of something (in this case, ResNet50) and making an object out of it (the model we will use here). This step creates the instance of the model to use.\n",
        "\n",
        "### <img src='https://github.com/labarreb/deep_learning/blob/main/images/note_icon.svg?raw=1' width=40, align='center' alt='Note icon'> Some Background on ResNet\n",
        "> ResNet, which stands for Residual Network, won the 2015 ImageNet competition. It was introduced to address the vanishing gradient problem commonly faced when training very deep neural networks. As networks become deeper, gradients (the values used to update network weights) can become extremely small, effectively halting training.\n",
        "> ResNet introduces the concept of \"residual blocks.\"  As it processes data, instead of relying solely on the current \"thought\" or layer, it can also \"refer back\" to earlier layers, much like using recent memories to help recall older ones. These \"references back\" are called skip connections. They act like bridges, letting the network jump over some layers to ensure that even as it delves deeper into processing, it remembers and retains important early details. This shortcut or skip connection allows gradients to propagate more easily through the network.\n",
        "> This architectural innovation has enabled the training of networks with depths previously thought infeasible. With hundreds or even thousands of layers, ResNet models have achieved state-of-the-art performance on many image classification benchmarks.\n",
        "> In this unit’s exercise, we used the ResNet50 model, which, as its name suggests, consists of 50 layers.\n",
        "\n",
        "```python\n",
        "# Create an instance of the ResNet50 model pre-trained on ImageNet data\n",
        "my_model = ResNet50()\n",
        "```"
      ]
    },
    {
      "cell_type": "code",
      "execution_count": 3,
      "metadata": {
        "id": "0qKG8_tcshzv",
        "outputId": "f1a3a4d2-ce6b-4214-e286-a415f8fafa5b",
        "colab": {
          "base_uri": "https://localhost:8080/"
        }
      },
      "outputs": [
        {
          "output_type": "stream",
          "name": "stdout",
          "text": [
            "Downloading data from https://storage.googleapis.com/tensorflow/keras-applications/resnet/resnet50_weights_tf_dim_ordering_tf_kernels.h5\n",
            "\u001b[1m102967424/102967424\u001b[0m \u001b[32m━━━━━━━━━━━━━━━━━━━━\u001b[0m\u001b[37m\u001b[0m \u001b[1m1s\u001b[0m 0us/step\n"
          ]
        }
      ],
      "source": [
        "# Code it!\n",
        "my_model = ResNet50()"
      ]
    },
    {
      "cell_type": "markdown",
      "metadata": {
        "id": "u9rSSGwqshzv"
      },
      "source": [
        "## 3. Load image\n",
        "\n",
        "While developing her system, Amelia will use a test image of her favorite pizza to test the system. Let's load in her pizza image.\n",
        "\n",
        "Since ResNet50 was trained using images that are 224X224 pixels, we need to transform the input image to be the same size.\n",
        "\n",
        "### <img src='https://github.com/labarreb/deep_learning/blob/main/images/tip_icon.svg?raw=1' width=40, align='center' alt='Tip icon'> Tip\n",
        "> The pizza image is stored in the images folder; the complete path of the\n",
        "> location where the image is located must be given.\n",
        "\n",
        "\n",
        "```python\n",
        "# Load an image file for testing, resizing it to the required input size of 224x224 pixels\n",
        "my_image = load_img('images/pizza.jpg', target_size = (224, 224))\n",
        "```\n",
        "\n",
        "\n",
        "> If running on Google Colab, you have a couple of choices:\n",
        ">\n",
        "> 1. Change the `'images/pizza.jpg'` to use the web location of the\n",
        "> image in this repository:\n",
        "> `'https://raw.githubusercontent.com/PracticumAI/deep_learning/main/images/pizza.jpg'`\n",
        "> 1. Find any image of pizza, and upload it using the Files tab as in\n",
        "> the image below. Then right click and \"Copy path\", and use that path. [Click here](images/colab_img_upload.png) to see an screenshot of this if needed."
      ]
    },
    {
      "cell_type": "code",
      "execution_count": 15,
      "metadata": {
        "id": "MdwI8TS5shzv",
        "outputId": "babd85f4-9d96-4c0f-e986-f5dad2d6f152",
        "colab": {
          "base_uri": "https://localhost:8080/"
        }
      },
      "outputs": [
        {
          "output_type": "stream",
          "name": "stdout",
          "text": [
            "Requirement already satisfied: requests in /usr/local/lib/python3.10/dist-packages (2.32.3)\n",
            "Requirement already satisfied: charset-normalizer<4,>=2 in /usr/local/lib/python3.10/dist-packages (from requests) (3.3.2)\n",
            "Requirement already satisfied: idna<4,>=2.5 in /usr/local/lib/python3.10/dist-packages (from requests) (3.8)\n",
            "Requirement already satisfied: urllib3<3,>=1.21.1 in /usr/local/lib/python3.10/dist-packages (from requests) (2.0.7)\n",
            "Requirement already satisfied: certifi>=2017.4.17 in /usr/local/lib/python3.10/dist-packages (from requests) (2024.8.30)\n"
          ]
        }
      ],
      "source": [
        "# Code it!\n",
        "!pip install requests\n",
        "from tensorflow.keras.utils import load_img\n",
        "from tensorflow.keras.utils import img_to_array\n",
        "import requests\n",
        "from io import BytesIO\n",
        "from PIL import Image #Added this line to import the Image class from the PIL module\n",
        "\n",
        "response = requests.get('https://raw.githubusercontent.com/PracticumAI/deep_learning/main/images/pizza.jpg')\n",
        "my_image = Image.open(BytesIO(response.content))\n",
        "my_image = my_image.resize((224, 224)) # Resize the image using PIL"
      ]
    },
    {
      "cell_type": "markdown",
      "metadata": {
        "id": "l0OYzDupshzv"
      },
      "source": [
        "## 4. View the pizza image\n",
        "\n",
        "Let's take a quick look at the image to verify that it's a pizza.  Type the variable name and run the code block.\n",
        "\n",
        "```python\n",
        "my_image\n",
        "```"
      ]
    },
    {
      "cell_type": "code",
      "execution_count": 16,
      "metadata": {
        "id": "rsuvEFlNshzw",
        "outputId": "f9d4055b-3aa2-492e-dbbb-f812cc36e2a2",
        "colab": {
          "base_uri": "https://localhost:8080/",
          "height": 241
        }
      },
      "outputs": [
        {
          "output_type": "execute_result",
          "data": {
            "text/plain": [
              "<PIL.Image.Image image mode=RGB size=224x224>"
            ],
            "image/png": "[encoded data removed]"
          },
          "metadata": {},
          "execution_count": 16
        }
      ],
      "source": [
        "# Code it!\n",
        "\n",
        "my_image"
      ]
    },
    {
      "cell_type": "markdown",
      "metadata": {
        "id": "fFxHXKBSshzw"
      },
      "source": [
        "## 5. Convert image to array\n",
        "\n",
        "Convert the image to an array because the model expects it in this format. Take a quick look at the output too.\n",
        "\n",
        "```python\n",
        "# Convert the loaded image to an array format suitable for processing\n",
        "my_image = img_to_array(my_image)\n",
        "# View what my_image looks like now\n",
        "my_image\n",
        "```"
      ]
    },
    {
      "cell_type": "code",
      "execution_count": 17,
      "metadata": {
        "id": "Vuj3DyhQshzw",
        "outputId": "a05c8fc5-7aff-4de8-d7e1-3aa5993ed299",
        "colab": {
          "base_uri": "https://localhost:8080/"
        }
      },
      "outputs": [
        {
          "output_type": "execute_result",
          "data": {
            "text/plain": [
              "array([[[ 86.,  52.,  48.],\n",
              "        [ 82.,  51.,  48.],\n",
              "        [ 64.,  42.,  44.],\n",
              "        ...,\n",
              "        [ 90.,  67.,  53.],\n",
              "        [ 88.,  66.,  51.],\n",
              "        [ 96.,  69.,  52.]],\n",
              "\n",
              "       [[ 77.,  46.,  42.],\n",
              "        [ 74.,  45.,  41.],\n",
              "        [ 67.,  42.,  42.],\n",
              "        ...,\n",
              "        [ 86.,  64.,  51.],\n",
              "        [ 80.,  62.,  50.],\n",
              "        [ 91.,  67.,  51.]],\n",
              "\n",
              "       [[ 71.,  42.,  37.],\n",
              "        [ 73.,  46.,  45.],\n",
              "        [ 79.,  49.,  48.],\n",
              "        ...,\n",
              "        [ 82.,  62.,  49.],\n",
              "        [ 72.,  55.,  47.],\n",
              "        [ 88.,  64.,  48.]],\n",
              "\n",
              "       ...,\n",
              "\n",
              "       [[ 88.,  62.,  44.],\n",
              "        [126.,  94.,  70.],\n",
              "        [105.,  71.,  51.],\n",
              "        ...,\n",
              "        [ 30.,  23.,  20.],\n",
              "        [ 25.,  21.,  19.],\n",
              "        [ 38.,  29.,  25.]],\n",
              "\n",
              "       [[102.,  71.,  51.],\n",
              "        [138., 102.,  75.],\n",
              "        [109.,  80.,  59.],\n",
              "        ...,\n",
              "        [ 31.,  24.,  20.],\n",
              "        [ 26.,  22.,  19.],\n",
              "        [ 38.,  29.,  24.]],\n",
              "\n",
              "       [[ 99.,  69.,  51.],\n",
              "        [140., 104.,  77.],\n",
              "        [149., 113.,  85.],\n",
              "        ...,\n",
              "        [ 32.,  25.,  21.],\n",
              "        [ 28.,  23.,  19.],\n",
              "        [ 51.,  35.,  25.]]], dtype=float32)"
            ]
          },
          "metadata": {},
          "execution_count": 17
        }
      ],
      "source": [
        "# Code it!\n",
        "my_image = img_to_array(my_image)\n",
        "my_image"
      ]
    },
    {
      "cell_type": "markdown",
      "metadata": {
        "id": "7tqg1trqshzw"
      },
      "source": [
        "## 6. Reshape image\n",
        "\n",
        "Reshape the image.  All images fed to this model need to be 224 pixels high and 224 pixels wide, with 3 channels, one for each color (red, green, blue).  If our image was grayscale, how many channels would we specify?\n",
        "\n",
        "```python\n",
        "# Reshape the image array to the format the model expects (batch size, height, width, color channels)\n",
        "my_image = my_image.reshape((1, 224, 224, 3))\n",
        "```"
      ]
    },
    {
      "cell_type": "code",
      "execution_count": 18,
      "metadata": {
        "id": "MWLanhvqshzw"
      },
      "outputs": [],
      "source": [
        "# Code it!\n",
        "my_image = my_image.reshape((1, 224, 224, 3))"
      ]
    },
    {
      "cell_type": "markdown",
      "metadata": {
        "id": "qlOSdT3Dshzw"
      },
      "source": [
        "## 7. Preprocess image\n",
        "\n",
        "Execute the *preprocess_input()* function, which we imported from `tensorflow.keras.applications.resnet50`,  with the image as input.\n",
        "\n",
        "```python\n",
        "# Preprocess the image to ensure its values are appropriate for the ResNet50 model\n",
        "my_image = preprocess_input(my_image)\n",
        "# View the output\n",
        "my_image\n",
        "```"
      ]
    },
    {
      "cell_type": "code",
      "execution_count": 19,
      "metadata": {
        "id": "9M04icILshzw",
        "outputId": "20b12f7d-a098-40b7-d5df-f4e4e0fdc060",
        "colab": {
          "base_uri": "https://localhost:8080/"
        }
      },
      "outputs": [
        {
          "output_type": "execute_result",
          "data": {
            "text/plain": [
              "array([[[[-55.939003 , -64.779    , -37.68     ],\n",
              "         [-55.939003 , -65.779    , -41.68     ],\n",
              "         [-59.939003 , -74.779    , -59.68     ],\n",
              "         ...,\n",
              "         [-50.939003 , -49.779    , -33.68     ],\n",
              "         [-52.939003 , -50.779    , -35.68     ],\n",
              "         [-51.939003 , -47.779    , -27.68     ]],\n",
              "\n",
              "        [[-61.939003 , -70.779    , -46.68     ],\n",
              "         [-62.939003 , -71.779    , -49.68     ],\n",
              "         [-61.939003 , -74.779    , -56.68     ],\n",
              "         ...,\n",
              "         [-52.939003 , -52.779    , -37.68     ],\n",
              "         [-53.939003 , -54.779    , -43.68     ],\n",
              "         [-52.939003 , -49.779    , -32.68     ]],\n",
              "\n",
              "        [[-66.939    , -74.779    , -52.68     ],\n",
              "         [-58.939003 , -70.779    , -50.68     ],\n",
              "         [-55.939003 , -67.779    , -44.68     ],\n",
              "         ...,\n",
              "         [-54.939003 , -54.779    , -41.68     ],\n",
              "         [-56.939003 , -61.779    , -51.68     ],\n",
              "         [-55.939003 , -52.779    , -35.68     ]],\n",
              "\n",
              "        ...,\n",
              "\n",
              "        [[-59.939003 , -54.779    , -35.68     ],\n",
              "         [-33.939003 , -22.779    ,   2.3199997],\n",
              "         [-52.939003 , -45.779    , -18.68     ],\n",
              "         ...,\n",
              "         [-83.939    , -93.779    , -93.68     ],\n",
              "         [-84.939    , -95.779    , -98.68     ],\n",
              "         [-78.939    , -87.779    , -85.68     ]],\n",
              "\n",
              "        [[-52.939003 , -45.779    , -21.68     ],\n",
              "         [-28.939003 , -14.778999 ,  14.32     ],\n",
              "         [-44.939003 , -36.779    , -14.68     ],\n",
              "         ...,\n",
              "         [-83.939    , -92.779    , -92.68     ],\n",
              "         [-84.939    , -94.779    , -97.68     ],\n",
              "         [-79.939    , -87.779    , -85.68     ]],\n",
              "\n",
              "        [[-52.939003 , -47.779    , -24.68     ],\n",
              "         [-26.939003 , -12.778999 ,  16.32     ],\n",
              "         [-18.939003 ,  -3.7789993,  25.32     ],\n",
              "         ...,\n",
              "         [-82.939    , -91.779    , -91.68     ],\n",
              "         [-84.939    , -93.779    , -95.68     ],\n",
              "         [-78.939    , -81.779    , -72.68     ]]]], dtype=float32)"
            ]
          },
          "metadata": {},
          "execution_count": 19
        }
      ],
      "source": [
        "# Code it!\n",
        "my_image = preprocess_input(my_image)\n",
        "my_image"
      ]
    },
    {
      "cell_type": "markdown",
      "metadata": {
        "id": "N0kS_vvbshzw"
      },
      "source": [
        "### <img src='https://github.com/labarreb/deep_learning/blob/main/images/note_icon.svg?raw=1' width=40, align='center' alt='Note icon'> What is returned by `preprocess_input()`?\n",
        "\n",
        "> From the documentation, you will see that the `tensorflow.keras.applications.resnet50.preprocess_input` function returns:\n",
        ">  > The images are converted from RGB to BGR, then each color channel is zero-centered with respect to the ImageNet dataset, without scaling.\n",
        ">\n",
        "> Again, this function is designed to get input images into the format that was used in training the model. It's a bit of an odd format (non-standard color channel order and not scaled), but that's what was used during training, so that is what we need to use at inference time."
      ]
    },
    {
      "cell_type": "markdown",
      "metadata": {
        "id": "Am0BbcCrshzw"
      },
      "source": [
        "## 8. Execute predict method\n",
        "\n",
        "Execute the model's predict method.\n",
        "\n",
        "```python\n",
        "# Use the model to predict the class (or category) of the image\n",
        "my_result = my_model.predict(my_image)\n",
        "# View the result\n",
        "my_result\n",
        "```"
      ]
    },
    {
      "cell_type": "code",
      "execution_count": 20,
      "metadata": {
        "id": "7LlJp13pshzw",
        "outputId": "d003a290-59e1-4bdc-d990-109650241644",
        "colab": {
          "base_uri": "https://localhost:8080/"
        }
      },
      "outputs": [
        {
          "output_type": "stream",
          "name": "stdout",
          "text": [
            "\u001b[1m1/1\u001b[0m \u001b[32m━━━━━━━━━━━━━━━━━━━━\u001b[0m\u001b[37m\u001b[0m \u001b[1m3s\u001b[0m 3s/step\n"
          ]
        },
        {
          "output_type": "execute_result",
          "data": {
            "text/plain": [
              "array([[8.82300668e-08, 4.95003974e-07, 2.80706125e-10, 1.80675586e-10,\n",
              "        2.66309796e-09, 3.44832318e-09, 5.67297542e-09, 1.96866381e-08,\n",
              "        3.28284813e-08, 2.44992382e-09, 1.26367521e-08, 6.40472742e-09,\n",
              "        1.70939472e-07, 6.05998096e-08, 4.25056648e-08, 1.00773043e-07,\n",
              "        2.03631045e-09, 2.22968595e-07, 3.09978361e-07, 6.54930332e-08,\n",
              "        7.05401432e-11, 2.18106977e-09, 8.31055391e-10, 6.37921005e-09,\n",
              "        4.99781549e-09, 3.16940465e-08, 8.24301905e-10, 7.39406332e-08,\n",
              "        1.18026151e-07, 1.29934987e-08, 4.29812674e-09, 1.12355876e-08,\n",
              "        1.08505116e-08, 4.46847537e-09, 3.78833320e-09, 2.12369898e-07,\n",
              "        1.20916127e-07, 4.90710306e-07, 4.69391193e-09, 7.54575694e-07,\n",
              "        2.23265708e-08, 2.05153867e-08, 8.73753052e-08, 6.75133492e-07,\n",
              "        8.38118819e-09, 6.29860342e-09, 3.40386315e-08, 4.86249085e-08,\n",
              "        2.28436523e-08, 4.32024416e-09, 4.48441781e-08, 1.04714610e-08,\n",
              "        7.62842234e-09, 1.46992347e-08, 4.61198653e-07, 1.20618457e-08,\n",
              "        7.46845874e-09, 2.32958808e-09, 1.60424420e-08, 1.21514361e-07,\n",
              "        1.69524299e-07, 9.79930732e-08, 1.17637731e-08, 4.31071463e-08,\n",
              "        4.98353003e-08, 3.77854814e-09, 3.29628014e-09, 4.78498976e-07,\n",
              "        4.85195484e-09, 2.01326222e-09, 1.07184759e-08, 6.41770512e-08,\n",
              "        1.02162545e-08, 4.06764622e-09, 3.35959029e-08, 7.15127513e-09,\n",
              "        5.75226977e-07, 1.98569818e-08, 6.11023276e-09, 1.17136425e-08,\n",
              "        6.12856654e-10, 1.61661273e-09, 2.36526407e-08, 3.71771613e-10,\n",
              "        4.66983892e-08, 1.59521335e-07, 1.05694031e-08, 2.77792438e-08,\n",
              "        1.51920112e-08, 2.66908966e-08, 3.97714395e-08, 2.96943483e-08,\n",
              "        5.09856435e-10, 1.12978597e-07, 2.07335926e-08, 3.59017621e-10,\n",
              "        1.08900572e-07, 5.40179368e-09, 5.92863189e-11, 1.66041969e-09,\n",
              "        8.20818913e-10, 1.99799981e-08, 2.90786559e-08, 5.35912612e-08,\n",
              "        2.41443718e-08, 7.45314992e-08, 1.28903164e-08, 1.02751896e-09,\n",
              "        5.95640692e-09, 1.11082210e-09, 1.71080761e-10, 3.64888630e-09,\n",
              "        3.23586917e-08, 3.16649817e-08, 7.40700727e-08, 9.64683111e-10,\n",
              "        1.13348662e-07, 3.72950275e-08, 1.71156917e-05, 3.01141085e-06,\n",
              "        4.94889685e-09, 1.37551342e-06, 3.05130982e-07, 6.44284182e-06,\n",
              "        8.14633313e-06, 5.44699619e-09, 8.62274518e-09, 1.08196572e-08,\n",
              "        5.16089083e-09, 1.02329822e-09, 7.46315731e-10, 3.39056676e-08,\n",
              "        2.69635581e-09, 8.24711233e-09, 3.96265882e-08, 1.69813390e-08,\n",
              "        4.42120296e-09, 7.54695473e-10, 4.22214619e-09, 1.16842322e-08,\n",
              "        7.86814347e-09, 4.35917025e-10, 8.55403456e-11, 5.01429342e-10,\n",
              "        3.51100565e-10, 2.40165249e-10, 2.09867373e-10, 3.91741500e-10,\n",
              "        4.67620720e-10, 3.14843984e-10, 3.53216087e-08, 9.97373473e-09,\n",
              "        2.02607361e-10, 1.87026705e-09, 2.04934061e-08, 1.08505795e-07,\n",
              "        2.15048210e-08, 5.53881341e-09, 2.50086618e-09, 6.82959254e-08,\n",
              "        1.24842430e-08, 1.16472812e-07, 1.25857284e-07, 5.47749401e-08,\n",
              "        5.32534798e-08, 1.96887413e-08, 4.99761565e-09, 2.13450302e-09,\n",
              "        5.08759186e-08, 6.31803942e-08, 5.85307713e-09, 7.77321496e-09,\n",
              "        2.34703990e-09, 1.66995429e-09, 8.83619364e-08, 7.18716997e-09,\n",
              "        8.96064556e-09, 5.81065285e-09, 1.34510856e-08, 7.55040404e-08,\n",
              "        5.79514960e-08, 1.40595546e-09, 9.70432694e-08, 1.03271622e-08,\n",
              "        3.10375162e-06, 2.00991082e-07, 7.35490460e-08, 1.06097993e-08,\n",
              "        1.84974844e-08, 2.55986038e-07, 9.66618785e-10, 9.95500002e-08,\n",
              "        1.59858118e-08, 1.63356603e-07, 5.13891045e-08, 1.27099057e-07,\n",
              "        6.46433618e-09, 2.97441582e-09, 3.98459088e-09, 1.26194104e-08,\n",
              "        6.85951029e-09, 7.19523463e-09, 1.49688603e-07, 1.19791244e-08,\n",
              "        1.07767972e-08, 2.52230485e-08, 6.07014572e-09, 5.10822815e-07,\n",
              "        3.15893516e-07, 9.54007220e-08, 6.75386858e-10, 9.85548425e-08,\n",
              "        6.72023432e-08, 1.78200906e-07, 4.57277549e-09, 5.78894088e-08,\n",
              "        7.24371896e-09, 4.46714772e-08, 7.75846516e-08, 2.48442859e-07,\n",
              "        5.24205568e-08, 1.03055768e-08, 9.47489376e-09, 1.25323387e-08,\n",
              "        2.73291700e-08, 1.61037867e-08, 4.71874984e-09, 1.05567102e-08,\n",
              "        1.41599366e-09, 5.22923083e-09, 3.59475756e-08, 8.47180281e-09,\n",
              "        1.82970528e-08, 5.25940935e-09, 9.26072801e-08, 2.41754758e-08,\n",
              "        6.35721662e-08, 1.44459458e-08, 4.79934670e-08, 7.35373262e-10,\n",
              "        1.19138424e-08, 1.49567363e-08, 1.82086239e-08, 3.52972940e-08,\n",
              "        7.33896388e-10, 3.20972013e-08, 6.48550413e-09, 1.11421148e-08,\n",
              "        9.25318400e-09, 5.95297722e-09, 6.98500671e-08, 1.79647301e-08,\n",
              "        2.12958651e-09, 1.82822255e-08, 4.00732816e-08, 4.92820469e-08,\n",
              "        7.78993083e-08, 3.81583209e-09, 2.20276752e-09, 9.53537835e-08,\n",
              "        1.15936658e-07, 3.22457581e-08, 1.31201094e-08, 1.04065975e-07,\n",
              "        3.68975250e-08, 3.30122738e-08, 1.92389642e-08, 2.99141156e-08,\n",
              "        1.01213304e-09, 7.89085242e-09, 7.04035141e-09, 1.55721374e-08,\n",
              "        2.25688956e-09, 4.45773409e-08, 4.05188860e-09, 4.63942085e-09,\n",
              "        7.26935179e-09, 7.05862746e-08, 3.13923110e-09, 4.81957141e-09,\n",
              "        2.67037308e-08, 1.11472438e-07, 1.78811990e-06, 2.45852405e-08,\n",
              "        1.34043788e-07, 1.00108997e-08, 6.88284203e-08, 9.86832163e-08,\n",
              "        6.03870109e-09, 3.94678645e-09, 1.98037640e-08, 1.74351431e-08,\n",
              "        4.70968899e-08, 3.12336823e-09, 4.12385281e-09, 1.44258729e-08,\n",
              "        1.38251882e-10, 7.95642752e-09, 4.33243219e-09, 7.93312172e-09,\n",
              "        4.37401404e-09, 4.19093604e-09, 1.13428618e-08, 2.40516638e-08,\n",
              "        3.04319836e-09, 3.09781072e-08, 8.44225223e-09, 2.81777512e-09,\n",
              "        1.47756083e-08, 6.95112590e-09, 2.56308095e-08, 6.02720860e-08,\n",
              "        4.45622099e-08, 5.21854020e-07, 2.43766158e-06, 4.78693138e-08,\n",
              "        3.21388605e-08, 1.72042913e-09, 3.79220078e-09, 1.69275918e-08,\n",
              "        1.00745656e-09, 3.15140518e-08, 6.48848253e-10, 5.44193171e-08,\n",
              "        5.40117595e-09, 7.77127251e-09, 1.20486012e-08, 9.10911968e-09,\n",
              "        2.51891692e-07, 3.74470499e-09, 2.12154809e-08, 1.45189540e-08,\n",
              "        5.34763878e-08, 6.63436026e-07, 1.14256898e-06, 1.21884347e-09,\n",
              "        1.77972315e-09, 5.74113059e-08, 6.39931898e-07, 1.27959499e-09,\n",
              "        6.83284207e-10, 2.10035775e-08, 1.17534782e-08, 5.05874409e-09,\n",
              "        1.34588030e-09, 2.51233718e-08, 1.50009072e-08, 1.54441093e-09,\n",
              "        1.95816607e-09, 2.95590885e-10, 1.27712263e-09, 4.93519892e-10,\n",
              "        5.17905219e-10, 1.23147614e-09, 4.12505446e-10, 9.40951939e-09,\n",
              "        1.94858796e-08, 1.60422498e-09, 2.15323190e-08, 1.30954332e-08,\n",
              "        6.86870116e-09, 3.63392900e-07, 5.24659747e-08, 2.21204104e-07,\n",
              "        7.76017828e-09, 6.60109762e-08, 1.22912542e-08, 4.01127975e-09,\n",
              "        1.84704430e-08, 1.13351573e-09, 1.13713474e-08, 8.40658032e-09,\n",
              "        6.97272684e-10, 2.07069561e-08, 1.68952070e-08, 1.26075257e-08,\n",
              "        4.04971914e-08, 5.53255219e-09, 8.26746049e-09, 1.60107732e-08,\n",
              "        7.54268470e-09, 2.00375760e-09, 2.06827977e-08, 1.20561410e-08,\n",
              "        4.53777016e-09, 2.33521558e-09, 3.06428305e-09, 1.93880538e-07,\n",
              "        5.77951909e-08, 2.64119948e-09, 2.93241147e-08, 2.56268500e-08,\n",
              "        5.51715396e-10, 2.75200773e-09, 3.13943288e-10, 4.26802282e-09,\n",
              "        2.92048696e-09, 1.50116020e-09, 1.95075884e-07, 1.96750682e-09,\n",
              "        5.33154243e-10, 2.56459209e-08, 6.16824565e-08, 9.66337600e-12,\n",
              "        1.55320357e-11, 9.14418610e-11, 4.59885001e-07, 2.65092864e-10,\n",
              "        1.12579357e-09, 2.33631283e-08, 3.88302084e-08, 1.36781387e-06,\n",
              "        1.44208403e-04, 7.01511453e-08, 1.30236145e-07, 1.57110971e-05,\n",
              "        3.81340737e-10, 2.09601447e-09, 3.32437078e-09, 1.02311928e-08,\n",
              "        5.69706708e-06, 7.13628712e-09, 2.52720578e-09, 3.17760076e-08,\n",
              "        2.21647323e-09, 3.33492892e-07, 4.98289339e-08, 4.76355664e-04,\n",
              "        8.76237347e-04, 3.94521349e-09, 4.97970554e-10, 9.83400250e-10,\n",
              "        1.07955334e-09, 1.66476721e-09, 1.85537985e-09, 2.82542949e-08,\n",
              "        2.39449083e-09, 9.12265929e-10, 1.65903624e-09, 2.94100050e-10,\n",
              "        4.77893991e-08, 2.24147243e-08, 1.23473889e-08, 3.76392791e-07,\n",
              "        7.87683785e-09, 1.01842899e-08, 6.09992767e-09, 4.86201568e-09,\n",
              "        9.41662108e-07, 1.18868995e-08, 7.55239760e-10, 2.03845332e-07,\n",
              "        6.63236790e-07, 2.01525239e-07, 1.25499525e-07, 3.11478999e-07,\n",
              "        1.10929257e-07, 1.87828277e-08, 6.86634337e-07, 3.54326568e-09,\n",
              "        3.42872184e-08, 2.22154362e-09, 4.42920907e-07, 1.00347834e-05,\n",
              "        2.61891291e-08, 8.23918378e-10, 1.04965057e-10, 5.19124751e-06,\n",
              "        6.59066135e-10, 1.09208841e-03, 8.29078814e-08, 7.84500187e-10,\n",
              "        2.94840788e-07, 8.02699134e-08, 2.45744118e-08, 4.71423434e-09,\n",
              "        1.66374914e-08, 1.21057220e-09, 5.16360110e-08, 8.67455885e-09,\n",
              "        1.69564085e-09, 7.25219707e-08, 1.27357414e-08, 1.86024245e-08,\n",
              "        4.33805873e-11, 2.65518700e-08, 2.82176185e-08, 3.08208229e-07,\n",
              "        3.17659463e-08, 8.46202042e-08, 2.32320296e-09, 3.35197181e-09,\n",
              "        1.27984481e-06, 3.49350771e-08, 9.53914423e-08, 6.66718734e-08,\n",
              "        2.69256972e-08, 3.85167681e-07, 9.26411481e-09, 3.44916589e-05,\n",
              "        1.80184589e-09, 6.03008043e-09, 6.56115844e-07, 6.07760642e-09,\n",
              "        2.59751545e-07, 6.09656965e-08, 1.48554449e-07, 9.62266977e-09,\n",
              "        5.30845305e-08, 3.65659366e-06, 7.71320452e-10, 2.92993158e-10,\n",
              "        2.18783711e-08, 3.36128059e-09, 2.93853084e-08, 4.95487811e-08,\n",
              "        3.66321835e-08, 9.11319853e-10, 6.02700183e-08, 1.16033007e-05,\n",
              "        3.37013994e-09, 1.27052830e-04, 4.19815400e-08, 3.22692500e-07,\n",
              "        1.45291124e-09, 8.33103542e-08, 1.00024060e-08, 5.24927701e-09,\n",
              "        4.01865634e-08, 8.22957613e-09, 1.79945214e-09, 1.45754087e-09,\n",
              "        4.61345189e-05, 7.08123139e-07, 2.39836240e-09, 1.44048307e-09,\n",
              "        6.13477935e-09, 1.52343888e-10, 2.09917221e-08, 3.45023636e-06,\n",
              "        1.90807525e-09, 1.87504256e-07, 1.16905188e-08, 3.48829921e-09,\n",
              "        2.72699050e-03, 7.59032392e-09, 5.28931309e-07, 4.17605811e-11,\n",
              "        4.59835858e-09, 9.61357038e-09, 1.83566329e-10, 1.38038345e-08,\n",
              "        6.46354703e-09, 6.34742303e-09, 1.37225467e-10, 5.38521894e-10,\n",
              "        6.82275049e-06, 2.73196177e-09, 2.74585918e-08, 9.11488496e-06,\n",
              "        1.12745668e-09, 3.20747251e-09, 3.60614479e-07, 2.25255881e-09,\n",
              "        3.00634473e-09, 4.77673474e-08, 6.11336848e-09, 2.45275535e-03,\n",
              "        5.61917357e-09, 9.19590605e-07, 3.93505459e-08, 1.04646780e-07,\n",
              "        3.03969216e-07, 4.81684914e-10, 1.47557316e-07, 1.32257352e-08,\n",
              "        8.52147863e-08, 1.01645253e-06, 2.59111971e-07, 1.65054900e-07,\n",
              "        3.89553952e-06, 8.09837264e-09, 1.39421973e-04, 9.14381602e-08,\n",
              "        7.09995573e-09, 2.04700843e-08, 3.19740012e-09, 4.13613776e-07,\n",
              "        4.34198064e-08, 4.85567888e-08, 5.59982904e-09, 1.99637693e-08,\n",
              "        3.29930389e-10, 1.45081849e-08, 3.44480817e-08, 3.94315247e-09,\n",
              "        9.45095280e-07, 9.62782831e-09, 5.81468829e-09, 2.09595559e-08,\n",
              "        3.58459005e-08, 2.07215738e-08, 5.32613453e-10, 1.53684230e-08,\n",
              "        2.86502857e-08, 5.40617417e-09, 7.97872168e-09, 1.12025282e-06,\n",
              "        1.02057180e-08, 3.65860786e-09, 1.34180818e-08, 9.01835574e-06,\n",
              "        3.70567079e-08, 5.61019942e-09, 3.56580131e-07, 1.52750135e-09,\n",
              "        3.65699415e-10, 2.70217360e-09, 1.01989681e-04, 1.67710425e-07,\n",
              "        1.72196959e-08, 9.55566634e-07, 9.95280729e-08, 2.18346425e-08,\n",
              "        2.19245315e-08, 1.62850611e-09, 3.91343846e-08, 4.37711867e-09,\n",
              "        1.30929034e-09, 1.11261178e-09, 4.74803095e-08, 4.54907081e-07,\n",
              "        3.27536824e-08, 4.69616204e-08, 2.50438426e-09, 1.67893575e-08,\n",
              "        1.48732354e-07, 1.34378482e-07, 9.12058873e-10, 1.85361482e-09,\n",
              "        4.98127797e-08, 3.08572190e-08, 3.97270705e-09, 6.58834338e-08,\n",
              "        2.23123431e-09, 1.26964022e-08, 2.25821672e-08, 1.54780899e-08,\n",
              "        4.66096495e-09, 4.10195220e-08, 5.82986903e-09, 1.10897054e-06,\n",
              "        5.04079090e-09, 2.03223931e-06, 1.29084485e-08, 1.00813367e-08,\n",
              "        2.63118487e-08, 3.68777897e-10, 9.13156342e-08, 1.28799156e-05,\n",
              "        5.51977024e-08, 4.34970415e-09, 1.00974007e-09, 1.06801714e-08,\n",
              "        2.01315178e-08, 2.08536051e-08, 7.42983775e-06, 1.25585649e-08,\n",
              "        5.53985968e-09, 1.70967116e-08, 3.54223353e-08, 3.28591021e-09,\n",
              "        2.69084452e-08, 1.04685851e-08, 1.24368693e-09, 1.23451216e-09,\n",
              "        2.80239232e-09, 1.14951888e-08, 6.23002139e-09, 2.48314677e-07,\n",
              "        4.95412655e-10, 2.25835457e-08, 2.76477312e-08, 5.93565241e-09,\n",
              "        4.40747243e-08, 2.83378254e-09, 1.85741839e-10, 2.70500617e-08,\n",
              "        1.25011301e-09, 2.70890799e-09, 1.26741611e-07, 2.52427190e-09,\n",
              "        2.22674385e-06, 1.72583987e-06, 4.29771441e-10, 1.27992026e-08,\n",
              "        1.81182813e-07, 6.18041618e-10, 5.23455990e-09, 5.72799443e-08,\n",
              "        6.31002820e-07, 5.75428802e-11, 2.97258641e-11, 9.74754585e-07,\n",
              "        1.30427855e-08, 4.56264110e-10, 6.33694810e-07, 1.01261044e-08,\n",
              "        2.66961919e-08, 1.95905603e-08, 1.73296542e-07, 2.96013636e-09,\n",
              "        2.46965808e-08, 5.49776491e-09, 3.46021061e-08, 3.50333290e-10,\n",
              "        9.41944108e-07, 2.98267611e-09, 4.19341646e-08, 1.97999772e-09,\n",
              "        1.22069368e-08, 3.07557428e-08, 2.14822720e-08, 3.29900359e-07,\n",
              "        6.76602718e-10, 1.01949024e-06, 2.16032809e-08, 2.24696421e-08,\n",
              "        1.55861767e-06, 3.01612886e-07, 3.50100349e-09, 2.42607143e-07,\n",
              "        1.53111257e-09, 7.08961279e-10, 3.56702601e-09, 6.88330175e-08,\n",
              "        7.22460936e-09, 2.11230486e-07, 6.91253372e-05, 3.56808072e-09,\n",
              "        9.35373023e-08, 7.32762018e-10, 4.48172727e-07, 3.44442336e-10,\n",
              "        9.04641917e-10, 3.03339887e-09, 1.28303919e-08, 8.94445851e-09,\n",
              "        3.17586910e-07, 1.90631283e-07, 2.37793873e-08, 1.15030574e-09,\n",
              "        2.75958257e-07, 3.95749833e-09, 6.23403906e-09, 3.30971806e-09,\n",
              "        2.45227217e-04, 1.72174630e-08, 5.74701119e-07, 4.00493461e-09,\n",
              "        1.63423213e-08, 5.38778231e-08, 1.94896173e-04, 2.55878749e-08,\n",
              "        4.09886312e-08, 6.09517474e-06, 5.72980298e-06, 2.50190286e-08,\n",
              "        4.22200142e-09, 4.83063388e-07, 3.83270553e-08, 2.20523955e-09,\n",
              "        1.09293783e-08, 1.56435021e-07, 1.29849509e-08, 8.11911676e-08,\n",
              "        3.22243032e-08, 4.47750148e-09, 5.96100506e-07, 3.68015165e-08,\n",
              "        1.18528887e-09, 2.67062106e-09, 1.01479479e-07, 2.05339035e-08,\n",
              "        4.31203020e-08, 1.35600942e-07, 8.00616604e-08, 1.26308194e-07,\n",
              "        5.17678345e-09, 3.07910781e-08, 8.68602456e-07, 4.92609971e-08,\n",
              "        3.03082402e-06, 1.65422485e-08, 4.11899292e-10, 2.39338466e-10,\n",
              "        1.49319668e-08, 2.13385256e-08, 5.87594862e-10, 5.02400344e-09,\n",
              "        1.27915905e-06, 3.48578477e-09, 1.50305124e-09, 4.81664653e-10,\n",
              "        9.08256226e-08, 7.17650224e-08, 1.22590450e-07, 7.46817364e-09,\n",
              "        2.78313230e-08, 2.31504655e-05, 4.34186287e-09, 7.86655274e-09,\n",
              "        6.48038123e-10, 5.29964454e-03, 1.10923791e-10, 2.19536567e-08,\n",
              "        5.07061714e-07, 1.11200667e-10, 2.33689335e-07, 1.02182185e-09,\n",
              "        9.22846383e-11, 3.38277673e-08, 1.33928966e-08, 1.05468487e-08,\n",
              "        3.96645703e-07, 7.35219743e-08, 4.96309527e-09, 4.71696649e-06,\n",
              "        5.26025758e-07, 4.19434265e-09, 1.59463767e-08, 8.30420817e-08,\n",
              "        5.58216229e-08, 4.18288604e-09, 2.43400979e-08, 1.11411431e-07,\n",
              "        3.32135563e-08, 1.85437248e-08, 2.51378318e-09, 3.72044404e-08,\n",
              "        4.48269901e-08, 3.92080537e-08, 1.51241544e-08, 5.92752997e-07,\n",
              "        8.93110585e-10, 3.98060649e-07, 2.76364631e-07, 9.01859587e-10,\n",
              "        2.28390240e-09, 5.99782766e-08, 1.21172391e-07, 1.34171543e-07,\n",
              "        1.76234181e-07, 1.05723728e-07, 9.70463621e-09, 9.67619052e-09,\n",
              "        4.52172610e-09, 1.41791858e-08, 3.37075221e-08, 6.49304539e-08,\n",
              "        1.92934863e-07, 3.04332953e-05, 1.24069222e-09, 5.97193761e-08,\n",
              "        2.41879161e-09, 4.00841387e-08, 5.85936917e-08, 1.23149957e-09,\n",
              "        2.04208933e-04, 4.71404515e-09, 1.86528311e-07, 1.32990285e-10,\n",
              "        8.07502065e-09, 2.39107245e-09, 2.22985762e-11, 4.22728741e-09,\n",
              "        3.11049433e-07, 1.29684097e-09, 9.93866056e-09, 1.97352605e-07,\n",
              "        9.23636705e-08, 1.44977776e-07, 8.87736178e-08, 3.08079507e-07,\n",
              "        1.97016270e-08, 3.26320873e-08, 1.33404410e-06, 2.64652602e-08,\n",
              "        1.71017653e-08, 4.08710612e-08, 1.33540774e-11, 1.22752419e-06,\n",
              "        2.57901519e-07, 9.92488847e-09, 2.76996683e-08, 3.05901866e-11,\n",
              "        1.04782693e-07, 1.94889367e-07, 1.63661298e-07, 1.01669244e-07,\n",
              "        8.02915068e-08, 1.06323466e-08, 1.97574901e-10, 1.68557772e-08,\n",
              "        4.87558545e-08, 8.06072933e-08, 7.36295358e-10, 6.71347948e-07,\n",
              "        9.53222390e-10, 8.86320248e-02, 8.26713454e-04, 1.23550929e-08,\n",
              "        4.61280479e-07, 7.55853657e-10, 2.07436970e-10, 2.09586766e-08,\n",
              "        4.49239490e-09, 2.39758037e-07, 2.38183489e-07, 3.69949831e-08,\n",
              "        9.05861341e-09, 3.16118793e-08, 7.30464890e-05, 6.15979033e-03,\n",
              "        5.00915376e-05, 2.36263122e-06, 1.08162854e-02, 2.29269081e-05,\n",
              "        1.49380060e-06, 3.61418593e-08, 3.36410958e-05, 7.64917047e-07,\n",
              "        2.16113813e-06, 2.53518181e-07, 3.06115538e-07, 5.08439880e-05,\n",
              "        1.53622255e-04, 1.49109517e-04, 1.55782880e-04, 2.50653527e-03,\n",
              "        3.64128064e-05, 2.14564163e-04, 1.48017507e-05, 4.15233844e-05,\n",
              "        6.72649276e-06, 2.69898555e-05, 2.52719747e-08, 1.17375903e-05,\n",
              "        2.15673317e-05, 5.49996287e-07, 9.23862262e-06, 1.46832846e-07,\n",
              "        1.78150208e-06, 1.21655373e-03, 2.12358259e-06, 1.45851727e-05,\n",
              "        2.55672774e-07, 5.94003041e-07, 8.28568147e-08, 1.64364028e-04,\n",
              "        2.45819706e-07, 1.85925728e-07, 1.49834930e-04, 8.70241821e-01,\n",
              "        3.53486906e-03, 1.64983794e-05, 8.79178697e-06, 1.21271517e-08,\n",
              "        9.47475414e-08, 2.55502897e-07, 1.84344306e-09, 2.07542361e-09,\n",
              "        1.62216729e-08, 1.25433086e-09, 1.46474707e-10, 1.50788750e-08,\n",
              "        4.25158408e-10, 7.12186921e-10, 3.38626127e-09, 1.35075373e-09,\n",
              "        4.99466857e-10, 3.70744851e-10, 2.91971588e-07, 1.00667910e-08,\n",
              "        5.35052314e-09, 7.81136691e-07, 6.97787916e-09, 5.86274873e-05,\n",
              "        8.79509869e-08, 8.44091943e-08, 2.42366639e-07, 3.61724091e-08,\n",
              "        6.49933668e-07, 1.22405766e-07, 5.96829466e-08, 2.18086612e-07,\n",
              "        2.34627933e-05, 5.57742123e-06, 5.91977687e-06, 5.24664445e-09]],\n",
              "      dtype=float32)"
            ]
          },
          "metadata": {},
          "execution_count": 20
        }
      ],
      "source": [
        "# Code it!\n",
        "my_result = my_model.predict(my_image)\n",
        "my_result"
      ]
    },
    {
      "cell_type": "markdown",
      "metadata": {
        "id": "pKKE_VfFshzx"
      },
      "source": [
        "How could you verify that there are 1,000 numbers in the `my_result` variable?\n",
        "\n",
        "* Try coding that.\n",
        "* You may get a clearly incorrect answer. Look closely at how `my_result` printed and see if you can figure out how to get the number of values.\n",
        "   * Hint, how many square bracket sets are there in `my_result`?"
      ]
    },
    {
      "cell_type": "code",
      "execution_count": 21,
      "metadata": {
        "tags": [],
        "id": "q4eY4rtcshzx",
        "outputId": "469ebfa4-2a04-4982-aa49-6c77fe1bd0a5",
        "colab": {
          "base_uri": "https://localhost:8080/"
        }
      },
      "outputs": [
        {
          "output_type": "execute_result",
          "data": {
            "text/plain": [
              "(1, 1000)"
            ]
          },
          "metadata": {},
          "execution_count": 21
        }
      ],
      "source": [
        "# Code it\n",
        "my_result.shape"
      ]
    },
    {
      "cell_type": "markdown",
      "metadata": {
        "id": "gNUCB3w0shzx"
      },
      "source": [
        "## 9. Get prediction label\n",
        "\n",
        "The model's predict method returns an array with 1,000 numbers. Each number is the \"probability\" that the input image belongs to the corresponding category. The category list is in [this text file](ImageNet_1K_labels.txt).\n",
        "\n",
        "Convert this to its corresponding text label. We could find the maximum value and look up the category, but the `decode_predictions` function does this for us. According to [the documentation](https://www.tensorflow.org/api_docs/python/tf/keras/applications/resnet50/decode_predictions), `decode_predictions` returns: class name, class label and probability of the top five results by default.\n",
        "\n",
        "```python\n",
        "# Decode the prediction result to get human-readable class labels\n",
        "my_label = decode_predictions(my_result)\n",
        "my_label\n",
        "```"
      ]
    },
    {
      "cell_type": "code",
      "execution_count": 22,
      "metadata": {
        "id": "E-VqS7uKshzx",
        "outputId": "dd7a89c5-8151-4095-8efc-a5e651ce016f",
        "colab": {
          "base_uri": "https://localhost:8080/"
        }
      },
      "outputs": [
        {
          "output_type": "stream",
          "name": "stdout",
          "text": [
            "Downloading data from https://storage.googleapis.com/download.tensorflow.org/data/imagenet_class_index.json\n",
            "\u001b[1m35363/35363\u001b[0m \u001b[32m━━━━━━━━━━━━━━━━━━━━\u001b[0m\u001b[37m\u001b[0m \u001b[1m0s\u001b[0m 0us/step\n"
          ]
        },
        {
          "output_type": "execute_result",
          "data": {
            "text/plain": [
              "[[('n07873807', 'pizza', 0.8702418),\n",
              "  ('n04596742', 'wok', 0.088632025),\n",
              "  ('n07590611', 'hot_pot', 0.010816285),\n",
              "  ('n07579787', 'plate', 0.0061597903),\n",
              "  ('n04270147', 'spatula', 0.0052996445)]]"
            ]
          },
          "metadata": {},
          "execution_count": 22
        }
      ],
      "source": [
        "# Code it!\n",
        "my_label = decode_predictions(my_result)\n",
        "my_label"
      ]
    },
    {
      "cell_type": "markdown",
      "metadata": {
        "id": "UM026MFKshzx"
      },
      "source": [
        "## 10. Assign list item to a variable\n",
        "\n",
        "Assign the first item listed by the prediction to a variable - this is the label with the highest probability.\n",
        "\n",
        "* Extract the label with the highest predicted probability.\n",
        "   * Recalling that in Python, all indexes start at 0, the [0][0] indexing retrieves the first prediction from the first batch of results.\n",
        "\n",
        "```python\n",
        "my_label = my_label[0][0]\n",
        "my_label\n",
        "```"
      ]
    },
    {
      "cell_type": "code",
      "execution_count": 23,
      "metadata": {
        "id": "kclrEu8fshzx",
        "outputId": "ad933630-aab5-406f-f1b9-18a7f005ca3e",
        "colab": {
          "base_uri": "https://localhost:8080/"
        }
      },
      "outputs": [
        {
          "output_type": "execute_result",
          "data": {
            "text/plain": [
              "('n07873807', 'pizza', 0.8702418)"
            ]
          },
          "metadata": {},
          "execution_count": 23
        }
      ],
      "source": [
        "# Code it!\n",
        "my_label = my_label[0][0]\n",
        "my_label"
      ]
    },
    {
      "cell_type": "markdown",
      "metadata": {
        "id": "x64_jzNlshzx"
      },
      "source": [
        "## 11. Print the label\n",
        "\n",
        "Include the label in a sentence and then print it.\n",
        "\n",
        "* The `my_label` variable contains information about the prediction in the format (ID, Label, Probability).\n",
        "* Using `my_label[1]` extracts the human-readable label (e.g., 'pizza') for the predicted class.\n",
        "\n",
        "```python\n",
        "# Print the predicted class label in a formatted string\n",
        "print(f\"This is an image of a {my_label[1]}!\")\n",
        "```"
      ]
    },
    {
      "cell_type": "code",
      "execution_count": 24,
      "metadata": {
        "id": "fAEK8H0Ishzx",
        "outputId": "c614470d-6a59-438f-83f9-98edcfda789e",
        "colab": {
          "base_uri": "https://localhost:8080/"
        }
      },
      "outputs": [
        {
          "output_type": "stream",
          "name": "stdout",
          "text": [
            "This is an image of a pizza!\n"
          ]
        }
      ],
      "source": [
        "# Code it!\n",
        "print(f\"This is an image of a {my_label[1]}!\")"
      ]
    },
    {
      "cell_type": "markdown",
      "metadata": {
        "id": "iXeNMmjZshzx"
      },
      "source": [
        "### <img src='https://github.com/labarreb/deep_learning/blob/main/images/tip_icon.svg?raw=1' width=40, align='center' alt='Tip icon'> Tip\n",
        "> Although we use an image of a pizza here, you can use just about any image with\n",
        "> this model. Try out this exercise multiple times with different images to see if\n",
        "> you can fool it. The [ImageNet_1K_labels.txt](https://raw.githubusercontent.com/PracticumAI/deep_learning/main/Image_Net_1K_labels.txt)\n",
        "> file lists all the image categories this model is trained to classify."
      ]
    },
    {
      "cell_type": "markdown",
      "metadata": {
        "id": "3HMqlCvoshzx"
      },
      "source": [
        "## 12. Create a speech sentence\n",
        "\n",
        "As a busy scientist, Dr. Amelia tries to multi-task as much as possible. Now that she has the image recognition step worked out, she wants to add an audio component to her program to read the results while working out at the gym.\n",
        "\n",
        "Luckily, text-to-speech technology is as easy to implement as image recognition! Let's help Amelia get the next step of her prototype up and running!\n",
        "\n",
        "Create a longer sentence to convert to speech.\n",
        "```python\n",
        "say_it = f\"This participant is eating {my_label[1]} today.\"\n",
        "```"
      ]
    },
    {
      "cell_type": "code",
      "execution_count": 25,
      "metadata": {
        "id": "FAEgv8Ntshzx"
      },
      "outputs": [],
      "source": [
        "# Code it!\n",
        "say_it = f\"This participant is eating {my_label[1]} today.\""
      ]
    },
    {
      "cell_type": "markdown",
      "metadata": {
        "id": "JZ6h-plzshzx"
      },
      "source": [
        "## 13. Execute the gtts function\n",
        "\n",
        "Pass the say_it variable to the gTTS API.\n",
        "\n",
        "```python\n",
        "my_speech = gTTS(text = say_it)\n",
        "```"
      ]
    },
    {
      "cell_type": "code",
      "execution_count": 26,
      "metadata": {
        "id": "nte9rEsdshzx"
      },
      "outputs": [],
      "source": [
        "# Code it!\n",
        "my_speech = gTTS(text = say_it)"
      ]
    },
    {
      "cell_type": "markdown",
      "metadata": {
        "id": "mcs8Z_uwshzy"
      },
      "source": [
        "## 14. Save the audio file\n",
        "\n",
        "gTTS will convert the string you gave it into an audio file. Save the audio file. The default location is the current directory.\n",
        "\n",
        "```python\n",
        "# Save the audio file in the current directory.\n",
        "my_speech.save(\"prediction.mp3\")\n",
        "```"
      ]
    },
    {
      "cell_type": "code",
      "execution_count": 27,
      "metadata": {
        "id": "zi_WG8r7shzy"
      },
      "outputs": [],
      "source": [
        "# Code it!\n",
        "my_speech.save(\"prediction.mp3\")"
      ]
    },
    {
      "cell_type": "markdown",
      "metadata": {
        "id": "U0PLYoMVshzy"
      },
      "source": [
        "### <img src='https://github.com/labarreb/deep_learning/blob/main/images/note_icon.svg?raw=1' width=40, align='center' alt='Note icon'> Note\n",
        "> This last block of code is only needed if you are running Jupyter Notebooks\n",
        "> on a local computer.  Otherwise, download the .mp3 file from your HPC system and\n",
        "> listen to it on your computer."
      ]
    },
    {
      "cell_type": "code",
      "execution_count": null,
      "metadata": {
        "id": "YlHBLTIVshzy"
      },
      "outputs": [],
      "source": [
        "# Uncomment and run if running on local system as opposed to HPC or Google Colab\n",
        "# os.system(\"prediction.mp3\")"
      ]
    },
    {
      "cell_type": "markdown",
      "metadata": {
        "id": "9uZww5s7shzy"
      },
      "source": [
        "## 15. Let's put it all together\n",
        "\n",
        "We can put all of these steps together in a function to make it easier to test more images."
      ]
    },
    {
      "cell_type": "code",
      "execution_count": 32,
      "metadata": {
        "id": "feg0rOKzshzy"
      },
      "outputs": [],
      "source": [
        "def what_are_they_eating(image):\n",
        "    '''Takes an image and returns a ResNet50 prediction.'''\n",
        "    response = requests.get(image)\n",
        "    my_image = Image.open(BytesIO(response.content))\n",
        "    my_image = my_image.resize((224, 224)) # Resize the image using PIL\n",
        "    my_image = img_to_array(my_image)\n",
        "    my_image = my_image.reshape((1, 224, 224, 3))\n",
        "    my_image = preprocess_input(my_image)\n",
        "    my_result = my_model.predict(my_image)\n",
        "    my_label = decode_predictions(my_result)\n",
        "\n",
        "    return my_label[0][0]\n",
        "\n",
        "def tell_me_what_they_ate(label):\n",
        "    '''Takes a label and returns a mp3 speech file with the item that was eaten.'''\n",
        "    say_it = f\"This participant is eating {label} today.\"\n",
        "    my_speech = gTTS(text = say_it)\n",
        "    my_speech.save(f\"{label}_prediction.mp3\")\n",
        "    print(f\"Sound file saved to {label}_prediction.mp3\")"
      ]
    },
    {
      "cell_type": "code",
      "execution_count": 34,
      "metadata": {
        "id": "bQvD2koushzy",
        "outputId": "fd13ecdc-0d9b-4636-b04d-8ee885d1e21f",
        "colab": {
          "base_uri": "https://localhost:8080/"
        }
      },
      "outputs": [
        {
          "output_type": "stream",
          "name": "stdout",
          "text": [
            "\u001b[1m1/1\u001b[0m \u001b[32m━━━━━━━━━━━━━━━━━━━━\u001b[0m\u001b[37m\u001b[0m \u001b[1m0s\u001b[0m 242ms/step\n",
            "('n07875152', 'potpie', 0.5326958)\n",
            "Sound file saved to potpie_prediction.mp3\n"
          ]
        }
      ],
      "source": [
        "# Now run on a new image of pizza\n",
        "# Image courtesy of Ruslan Khmelevsky https://www.pexels.com/photo/a-pizza-inside-the-brick-oven-14129177/\n",
        "label = what_are_they_eating('https://raw.githubusercontent.com/PracticumAI/deep_learning/main/images/hawaiian_pizza_khmelevsky.jpg')\n",
        "print(label)\n",
        "\n",
        "tell_me_what_they_ate(label[1])"
      ]
    },
    {
      "cell_type": "markdown",
      "metadata": {
        "id": "pXihrp7Jshzy"
      },
      "source": [
        "## 16. Test other items\n",
        "Amelia should also test with some other food items to ensure her system is working. Let's try this burger.\n",
        "\n",
        "![Photo of a hamburger](https://github.com/labarreb/deep_learning/blob/main/images/hamburger.jpg?raw=1)"
      ]
    },
    {
      "cell_type": "code",
      "execution_count": 36,
      "metadata": {
        "id": "w2FVvOj_shzy",
        "outputId": "a7dafefb-4b83-4bcf-fcaa-111c851e939c",
        "colab": {
          "base_uri": "https://localhost:8080/"
        }
      },
      "outputs": [
        {
          "output_type": "stream",
          "name": "stdout",
          "text": [
            "\u001b[1m1/1\u001b[0m \u001b[32m━━━━━━━━━━━━━━━━━━━━\u001b[0m\u001b[37m\u001b[0m \u001b[1m0s\u001b[0m 221ms/step\n",
            "('n07697313', 'cheeseburger', 0.45036763)\n",
            "Sound file saved to cheeseburger_prediction.mp3\n"
          ]
        }
      ],
      "source": [
        "label = what_are_they_eating('https://raw.githubusercontent.com/PracticumAI/deep_learning/main/images/hamburger.jpg')\n",
        "print(label)\n",
        "\n",
        "tell_me_what_they_ate(label[1])"
      ]
    },
    {
      "cell_type": "markdown",
      "metadata": {
        "id": "z6rAMPXJshzz"
      },
      "source": [
        "#### How did that work?\n",
        "\n",
        "Amelia's classifier works well, predicting that the image is a cheeseburger. But...I don't see any cheese on that burger! Why do you think the cheeseburger category was selected? Remember to look at the [ImageNet categories](ImageNet_1K_labels.txt).\n",
        "\n",
        "Remember, a model will output probabilities of the categories it was trained on, and all the output probabilities must sum to one. The model has no mechanism to tell you it doesn't recognize the image!\n",
        "\n",
        "\n",
        "## 17. More challenges\n",
        "\n",
        "Hmm...While reviewing some predictions, Amelia discovers a problem. Did the participant eat pizza again? or is this a quiche?\n",
        "\n",
        "![A photo of quiche](https://github.com/labarreb/deep_learning/blob/main/images/quiche.jpg?raw=1)"
      ]
    },
    {
      "cell_type": "code",
      "execution_count": 37,
      "metadata": {
        "id": "4jAnY2Feshzz",
        "outputId": "c94b39b8-e3ec-44d0-cf62-2e7a1046b88c",
        "colab": {
          "base_uri": "https://localhost:8080/"
        }
      },
      "outputs": [
        {
          "output_type": "stream",
          "name": "stdout",
          "text": [
            "\u001b[1m1/1\u001b[0m \u001b[32m━━━━━━━━━━━━━━━━━━━━\u001b[0m\u001b[37m\u001b[0m \u001b[1m0s\u001b[0m 203ms/step\n",
            "('n07717410', 'acorn_squash', 0.29253125)\n",
            "Sound file saved to acorn_squash_prediction.mp3\n"
          ]
        }
      ],
      "source": [
        "label = what_are_they_eating('https://raw.githubusercontent.com/PracticumAI/deep_learning/main/images/quiche.jpg')\n",
        "print(label)\n",
        "\n",
        "tell_me_what_they_ate(label[1])"
      ]
    },
    {
      "cell_type": "markdown",
      "metadata": {
        "id": "5XMttcDAshzz"
      },
      "source": [
        "Again, consider the importance of training data representing the data used when the model is deployed. Recognize the limitations of models to make predictions based on the training categories.\n",
        "\n",
        "These issues relate to the discussion of AI ethics and how well your AI model will work. If the training data do not represent the data used in deployment, AI models will be of limited value and can even be misleading. The consequences may be manageable for Amelia's research study, but we must carefully evaluate the performance and suitability of all AI models as we work with them.\n",
        "\n",
        "Hopefully, this fun exercise showed how easy it can be to use AI models to accomplish everyday tasks like image classification and text-to-speech.\n",
        "\n",
        "### Further refinement\n",
        "\n",
        "As we have helped Dr. Amelia discover, she may be unable to use ResNet50 trained on ImageNet for her task. There are too few food categories to work reliably for her study. Does that mean she needs to start from scratch?\n",
        "\n",
        "No! In a future *Practicum AI* course, you can learn about **transfer learning**. Transfer learning allows you to take a model trained on one dataset and fine-tune it for a new dataset. With transfer learning, you can harness the information a model has learned about its training data, 1,000 categories of objects in the case of ImageNet, and add new information specific to your task. The advantage here is that you typically need far less data to train a model to recognize many food types, for example, when it already knows about food and many other things in the world!\n",
        "\n",
        "\n",
        "Please tune in to our next notebook to see what Amelia is up to next!\n"
      ]
    },
    {
      "cell_type": "markdown",
      "metadata": {
        "id": "xfpMOhtRshzz"
      },
      "source": [
        "## Bonus Exercises\n",
        "\n",
        "1. Change the code so that if the confidence of the model's prediction is less than 0.75, the code output says it's not sure what the image is.\n",
        "1. Change the code to output the top *n* categories and their probabilities.\n",
        "1. Change the code so that each loaded image has its label added to a list saved to a text file.\n",
        "\n",
        "\n",
        "## Before continuing\n",
        "###  <img src='https://github.com/labarreb/deep_learning/blob/main/images/alert_icon.svg?raw=1' alt=\"Alert icon\" width=40 align=center> Alert!\n",
        "> Before continuing to another notebook within the same Jupyter session,\n",
        "> use the **\"Running Terminals and Kernels\" tab** (below the File Browser tab) to **shut down this kernel**.\n",
        "> This will free up this notebook's GPU memory, making it available for\n",
        "> your next notebook.\n",
        ">\n",
        "> Every time you run multiple notebooks within a Jupyter session with a GPU, this should be done.\n",
        ">\n",
        "> ![Screenshot of the Running Terminals and Kernels tab used t oshut down kernels before starting a new notebook](https://github.com/labarreb/deep_learning/blob/main/images/stop_kernel.png?raw=1)"
      ]
    },
    {
      "cell_type": "markdown",
      "metadata": {
        "tags": [],
        "id": "bJXOgCJishzz"
      },
      "source": [
        "----\n",
        "## Push changes to GitHub <img src=\"https://github.com/labarreb/deep_learning/blob/main/images/push_to_github.png?raw=1\" alt=\"Push to GitHub icon\" align=\"right\" width=150>\n",
        "\n",
        " Remember to **add**, **commit**, and **push** the changes you have made to this notebook to GitHub to keep your repository in sync.\n",
        "\n",
        "In Jupyter, those are done in the git tab on the left. In Google Colab, use File > Save a copy in GitHub.\n"
      ]
    },
    {
      "cell_type": "code",
      "execution_count": null,
      "metadata": {
        "id": "TQ4VAFA1shzz"
      },
      "outputs": [],
      "source": []
    }
  ],
  "metadata": {
    "kernelspec": {
      "display_name": "Tensorflow-2.15",
      "language": "python",
      "name": "tensorflow-2.15"
    },
    "language_info": {
      "codemirror_mode": {
        "name": "ipython",
        "version": 3
      },
      "file_extension": ".py",
      "mimetype": "text/x-python",
      "name": "python",
      "nbconvert_exporter": "python",
      "pygments_lexer": "ipython3",
      "version": "3.11.5"
    },
    "colab": {
      "provenance": []
    }
  },
  "nbformat": 4,
  "nbformat_minor": 0
}